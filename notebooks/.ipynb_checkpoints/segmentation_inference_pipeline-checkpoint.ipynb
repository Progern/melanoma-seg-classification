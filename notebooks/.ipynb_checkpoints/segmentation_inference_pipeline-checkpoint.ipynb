{
 "cells": [
  {
   "cell_type": "code",
   "execution_count": null,
   "metadata": {},
   "outputs": [],
   "source": [
    "import os\n",
    "import sys\n",
    "import datetime\n",
    "import numpy as np\n",
    "import matplotlib.pyplot as plt\n",
    "import random\n",
    "import uuid\n",
    "\n",
    "from tqdm import tqdm"
   ]
  },
  {
   "cell_type": "code",
   "execution_count": null,
   "metadata": {},
   "outputs": [],
   "source": [
    "from IPython.display import clear_output"
   ]
  },
  {
   "cell_type": "code",
   "execution_count": null,
   "metadata": {},
   "outputs": [],
   "source": [
    "data_root = \"../dataset\"\n",
    "images_root = os.path.join(data_root, \"images_all\")\n",
    "masks_root = os.path.join(data_root, \"masks_all\")"
   ]
  },
  {
   "cell_type": "code",
   "execution_count": null,
   "metadata": {},
   "outputs": [],
   "source": [
    "test_data_dist = os.path.join(data_root, \"test_data.csv\")"
   ]
  },
  {
   "cell_type": "code",
   "execution_count": null,
   "metadata": {},
   "outputs": [],
   "source": [
    "scripts_path = \"../scripts\""
   ]
  },
  {
   "cell_type": "code",
   "execution_count": null,
   "metadata": {},
   "outputs": [],
   "source": [
    "sys.path.append(scripts_path)"
   ]
  },
  {
   "cell_type": "code",
   "execution_count": null,
   "metadata": {},
   "outputs": [],
   "source": [
    "import torch\n",
    "import constants as const\n",
    "\n",
    "from train_utils import *\n",
    "from metrics import get_iou_metric"
   ]
  },
  {
   "cell_type": "code",
   "execution_count": null,
   "metadata": {},
   "outputs": [],
   "source": [
    "test_dataset = get_test_dataset_segmentation(test_data_dist, images_root, masks_root)"
   ]
  },
  {
   "cell_type": "code",
   "execution_count": null,
   "metadata": {},
   "outputs": [],
   "source": [
    "model = torch.load(\"../models/segmentation_model_xception_backbone.pth\")\n",
    "model.eval()"
   ]
  },
  {
   "cell_type": "code",
   "execution_count": null,
   "metadata": {},
   "outputs": [],
   "source": [
    "test_loader = get_data_loader(test_dataset, batch_size = const.batch_size_val, shuffle=False, num_workers = 0)"
   ]
  },
  {
   "cell_type": "code",
   "execution_count": null,
   "metadata": {},
   "outputs": [],
   "source": [
    "test_loader_iterator = test_loader._get_iterator()"
   ]
  },
  {
   "cell_type": "code",
   "execution_count": null,
   "metadata": {},
   "outputs": [],
   "source": [
    "def iou_numpy(outputs: np.array, labels: np.array):\n",
    "    intersection = np.logical_and(labels, outputs)\n",
    "    union = np.logical_or(labels, outputs)\n",
    "    iou_score = np.sum(intersection) / np.sum(union)\n",
    "    return iou_score"
   ]
  },
  {
   "cell_type": "code",
   "execution_count": null,
   "metadata": {},
   "outputs": [],
   "source": [
    "preds = []\n",
    "gts = []\n",
    "ious = []\n",
    "idx = 0\n",
    "results = {}\n",
    "\n",
    "try:\n",
    "    with torch.no_grad(): \n",
    "        current_sample = test_loader_iterator.next()\n",
    "            \n",
    "        while current_sample is not None:\n",
    "            if idx <= 1250:\n",
    "                clear_output(wait=True)\n",
    "                idx += 1\n",
    "                image, gt = current_sample\n",
    "                image, gt = image.cuda(), gt.cuda()\n",
    "\n",
    "                # Perform prediction            \n",
    "                pred = model(image)\n",
    "\n",
    "                # Transform outputs\n",
    "                pred_cpu = pred.cpu().numpy()\n",
    "                gt_cpu = gt.cpu().numpy()\n",
    "\n",
    "                # Post-process the results\n",
    "                pred_cpu[pred_cpu >= 0.5] = 1\n",
    "                pred_cpu[pred_cpu < 0.5] = 0\n",
    "\n",
    "                pred_cpu = pred_cpu.astype(int)\n",
    "                gt_cpu = gt_cpu.astype(int)\n",
    "\n",
    "                iou = iou_numpy(pred_cpu, gt_cpu)\n",
    "                print(\"Processing image {} / {}. IoU: {}\".format(idx, 1300, iou))\n",
    "                ious.append(iou)\n",
    "\n",
    "                # Save results\n",
    "                gts.append(gt_cpu)\n",
    "                preds.append(pred_cpu)\n",
    "                \n",
    "                results[idx] = (image.cpu().numpy(), pred_cpu, gt_cpu, iou)\n",
    "\n",
    "                current_sample = test_loader_iterator.next()\n",
    "            else:\n",
    "                break\n",
    "except StopIteration as ex:\n",
    "    pass"
   ]
  },
  {
   "cell_type": "code",
   "execution_count": null,
   "metadata": {},
   "outputs": [],
   "source": [
    "ious_arr = np.array(ious)\n",
    "ious_arr = ious_arr[ious_arr > 0]\n",
    "print(\"Average IoU (no outliers): {}\".format(np.mean(ious_arr)))"
   ]
  },
  {
   "cell_type": "code",
   "execution_count": null,
   "metadata": {},
   "outputs": [],
   "source": [
    "def show_pred_gt(image, pred, gt, iou, save_name = None):\n",
    "\n",
    "    f, axarr = plt.subplots(1,3, figsize = (16, 8))\n",
    "    axarr[0].imshow(image[0, :, :, :].transpose(2, 1, 0))\n",
    "    axarr[1].imshow(pred[0, :, :, :].transpose(2, 1, 0), cmap = 'gray')\n",
    "    axarr[2].imshow(gt[0, :, :, :].transpose(2, 1, 0), cmap = 'gray')\n",
    "    \n",
    "    axarr[0].title.set_text(\"Input\")\n",
    "    axarr[1].title.set_text(\"Prediction. IOU: {:.2f}\".format(iou))\n",
    "    axarr[2].title.set_text(\"Ground Truth\")\n",
    "    \n",
    "    if save_name is not None:\n",
    "        plt.savefig(os.path.join(\"../outputs\", save_name), bbox_inches = \"tight\")"
   ]
  },
  {
   "cell_type": "code",
   "execution_count": null,
   "metadata": {},
   "outputs": [],
   "source": [
    "index = random.randint(0, len(results))\n",
    "print(index)\n",
    "image, pred, gt, iou = results[index]\n",
    "\n",
    "show_pred_gt(image, pred, gt, iou, save_name = \"{}_{}\".format(index, str(uuid.uuid4())))"
   ]
  }
 ],
 "metadata": {
  "kernelspec": {
   "display_name": "Python 3",
   "language": "python",
   "name": "python3"
  },
  "language_info": {
   "codemirror_mode": {
    "name": "ipython",
    "version": 3
   },
   "file_extension": ".py",
   "mimetype": "text/x-python",
   "name": "python",
   "nbconvert_exporter": "python",
   "pygments_lexer": "ipython3",
   "version": "3.7.8"
  }
 },
 "nbformat": 4,
 "nbformat_minor": 4
}
