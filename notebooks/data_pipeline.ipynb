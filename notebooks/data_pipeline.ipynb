{
 "cells": [
  {
   "cell_type": "code",
   "execution_count": null,
   "metadata": {},
   "outputs": [],
   "source": [
    "import os\n",
    "import sys\n",
    "import pandas as pd\n",
    "import numpy as np\n",
    "import matplotlib.pyplot as plt\n",
    "import albumentations as alb\n",
    "\n",
    "from torch.utils.data import Dataset, DataLoader\n",
    "from torchvision import transforms, utils\n",
    "\n",
    "from skimage import io, transform"
   ]
  },
  {
   "cell_type": "code",
   "execution_count": null,
   "metadata": {},
   "outputs": [],
   "source": [
    "data_root = \"../dataset\"\n",
    "images_root = os.path.join(data_root, \"images_all\")\n",
    "masks_root = os.path.join(data_root, \"masks_all\")\n",
    "\n",
    "train_data_dist = os.path.join(data_root, \"train_data.csv\")\n",
    "test_data_dist = os.path.join(data_root, \"test_data.csv\")"
   ]
  },
  {
   "cell_type": "code",
   "execution_count": null,
   "metadata": {},
   "outputs": [],
   "source": [
    "scripts_path = \"../scripts\""
   ]
  },
  {
   "cell_type": "code",
   "execution_count": null,
   "metadata": {},
   "outputs": [],
   "source": [
    "sys.path.append(scripts_path)"
   ]
  },
  {
   "cell_type": "code",
   "execution_count": null,
   "metadata": {},
   "outputs": [],
   "source": [
    "from data_loader import MelanomaSegmentationDataset"
   ]
  },
  {
   "cell_type": "code",
   "execution_count": null,
   "metadata": {},
   "outputs": [],
   "source": [
    "train_data = pd.read_csv(train_data_dist)\n",
    "train_data.head()"
   ]
  },
  {
   "cell_type": "code",
   "execution_count": null,
   "metadata": {},
   "outputs": [],
   "source": [
    "test_data = pd.read_csv(test_data_dist)\n",
    "test_data.head()"
   ]
  },
  {
   "cell_type": "code",
   "execution_count": null,
   "metadata": {},
   "outputs": [],
   "source": [
    "# Declare an augmentation pipeline\n",
    "transform = alb.Compose([\n",
    "    alb.HorizontalFlip(p=0.5),\n",
    "    alb.VerticalFlip(p=0.5),\n",
    "    alb.RandomRotate90(p=0.5),\n",
    "    alb.RandomBrightnessContrast(p=0.3),\n",
    "    alb.MedianBlur(p = 0.3)\n",
    "])"
   ]
  },
  {
   "cell_type": "code",
   "execution_count": null,
   "metadata": {},
   "outputs": [],
   "source": [
    "train_segmentation_dataset = MelanomaSegmentationDataset(train_data_dist, (images_root, masks_root))"
   ]
  },
  {
   "cell_type": "code",
   "execution_count": null,
   "metadata": {},
   "outputs": [],
   "source": [
    "test_sample = train_segmentation_dataset.__getitem__(700)\n",
    "f, axarr = plt.subplots(1,2, figsize = (15, 20))\n",
    "axarr[0].imshow(test_sample['image'])\n",
    "axarr[1].imshow(test_sample['mask'])"
   ]
  },
  {
   "cell_type": "code",
   "execution_count": null,
   "metadata": {},
   "outputs": [],
   "source": [
    "test_segmentation_dataset = MelanomaSegmentationDataset(test_data_dist, (images_root, masks_root))"
   ]
  },
  {
   "cell_type": "code",
   "execution_count": null,
   "metadata": {},
   "outputs": [],
   "source": [
    "test_sample = test_segmentation_dataset.__getitem__(7)\n",
    "f, axarr = plt.subplots(1,2, figsize = (15, 20))\n",
    "axarr[0].imshow(test_sample['image'])\n",
    "axarr[1].imshow(test_sample['mask'])"
   ]
  }
 ],
 "metadata": {
  "kernelspec": {
   "display_name": "Python 3",
   "language": "python",
   "name": "python3"
  },
  "language_info": {
   "codemirror_mode": {
    "name": "ipython",
    "version": 3
   },
   "file_extension": ".py",
   "mimetype": "text/x-python",
   "name": "python",
   "nbconvert_exporter": "python",
   "pygments_lexer": "ipython3",
   "version": "3.7.8"
  }
 },
 "nbformat": 4,
 "nbformat_minor": 4
}
